{
 "cells": [
  {
   "cell_type": "code",
   "execution_count": 1,
   "metadata": {},
   "outputs": [
    {
     "ename": "SyntaxError",
     "evalue": "f-string: unmatched '(' (utils.py, line 182)",
     "output_type": "error",
     "traceback": [
      "Traceback \u001b[0;36m(most recent call last)\u001b[0m:\n",
      "\u001b[0m  File \u001b[1;32m~/.local/lib/python3.10/site-packages/IPython/core/interactiveshell.py:3526\u001b[0m in \u001b[1;35mrun_code\u001b[0m\n    exec(code_obj, self.user_global_ns, self.user_ns)\u001b[0m\n",
      "\u001b[0m  Cell \u001b[1;32mIn[1], line 1\u001b[0m\n    from play import play\u001b[0m\n",
      "\u001b[0;36m  File \u001b[0;32m~/Library/Опты/Project (continuation)/code/newCompression/play.py:1\u001b[0;36m\n\u001b[0;31m    from utils.utils import init_plots, get_plot, get_functions, get_L, get_act_val, get_data, get_divided_data\u001b[0;36m\n",
      "\u001b[0;36m  File \u001b[0;32m~/Library/Опты/Project (continuation)/code/newCompression/utils/utils.py:182\u001b[0;36m\u001b[0m\n\u001b[0;31m    plt.savefig(f\"./results/{datetime.now().strftime(\"%d.%m.%Y__%H:%M:%S\")}.png\", bbox_inches='tight')\u001b[0m\n\u001b[0m                                                      ^\u001b[0m\n\u001b[0;31mSyntaxError\u001b[0m\u001b[0;31m:\u001b[0m f-string: unmatched '('\n"
     ]
    }
   ],
   "source": [
    "from play import play\n",
    "from algorithms.compressors import UncorrelatedRandK, NoCompressor, TopK, MyCompressor\n",
    "\n",
    "params = {\n",
    "    'function_params': {\n",
    "        'dataset': 'mushrooms',              # ['w3a', 'a5a', 'mushrooms']\n",
    "        'task_type': 'log',                  # ['log', 'linear']\n",
    "        'regularization_type': 'L2',         # ['L1', 'L2', 'elastic', None]\n",
    "        'mu': 0.01,                          # 0 < mu < 1 or None (if task_type == linear, else not Nullable)\n",
    "        'alpha': None,                       # 0 < alpha < 1 or None\n",
    "        'max_iter_answer': 1_000_000,        # don't change\n",
    "        'n': 100,                            # n - the number of workers\n",
    "        'criterion': 'by_func'               # ['by_grad', 'by_val', 'by_func']\n",
    "    },\n",
    "    'algorithm_params': {\n",
    "        'name': 'QGD',                       # ['QGD', 'QAGD']\n",
    "        'x_axis_name': 'Transform. unit',    # Optional\n",
    "        'y_axis_name': 'Criterion',          # Optional\n",
    "        'max_iter': 100,                     # Optional\n",
    "        'tolerance': 1e-36                   # don't change\n",
    "    },\n",
    "    'activation_params': {\n",
    "        'iterable_1': None,                  # Optional, note that if not None only compressors[0] will be tested, other compressors will be ignored\n",
    "        'iterable_1_name': R\"name\",          # Optional\n",
    "        'iterable_2': None,                  # Optional, note that if not None only compressors[0] will be tested, other compressors will be ignored\n",
    "        'iterable_2_name': R\"name\",          # Optional\n",
    "        'iterable_3': None,                  # Optional, note that if not None only compressors[0] will be tested, other compressors will be ignored\n",
    "        'iterable_3_name': R\"name\",          # Optional\n",
    "        'consant_params': None,              # Optional, use for parameter manipulating in compressors \n",
    "        'constant_params_name': R\"name\",     # Optional\n",
    "        'compressors': [UncorrelatedRandK, NoCompressor, TopK],            # Fill with compressor implementations to compare\n",
    "        'compressor_names': ['UncorrelatedRandK', 'NoCompressor', 'TopK']  # Fill with compressor names accordingly to compressors\n",
    "    }\n",
    "}\n",
    "\n",
    "play(params)"
   ]
  }
 ],
 "metadata": {
  "kernelspec": {
   "display_name": "Python 3",
   "language": "python",
   "name": "python3"
  },
  "language_info": {
   "codemirror_mode": {
    "name": "ipython",
    "version": 3
   },
   "file_extension": ".py",
   "mimetype": "text/x-python",
   "name": "python",
   "nbconvert_exporter": "python",
   "pygments_lexer": "ipython3",
   "version": "3.10.12"
  }
 },
 "nbformat": 4,
 "nbformat_minor": 2
}
